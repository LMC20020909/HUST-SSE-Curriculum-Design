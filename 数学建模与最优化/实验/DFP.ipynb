{
 "cells": [
  {
   "cell_type": "code",
   "execution_count": 19,
   "id": "7bee8b75",
   "metadata": {},
   "outputs": [
    {
     "name": "stdout",
     "output_type": "stream",
     "text": [
      "||g0||= 8.246211251235321\n",
      "第 1 次迭代\n",
      "x= [[ 0.73846154]\n",
      " [-0.04615385]]\n",
      "||g(k+1)||= 1.5223774617665211\n",
      "第 2 次迭代\n",
      "x= [[ 1.11022302e-16]\n",
      " [-5.55111512e-17]]\n",
      "||g(k+1)||= 4.965068306494546e-16\n",
      "极小值为： 2.465190328815662e-32\n"
     ]
    }
   ],
   "source": [
    "import numpy as np\n",
    "import sympy as sp\n",
    "def jacobian(f,x):#雅可比矩阵，求一阶导数\n",
    "    a,b=np.shape(x)#判断变量维度\n",
    "    x1,x2=sp.symbols('x1 x2')#定义变量，如果多元的定义多元的\n",
    "    x3=[x1,x2]#将1变量放入列表中，方便查找和循环。有几个变量放几个\n",
    "    df=np.array([[0.00000],[0.00000]])#定义一个空矩阵，将雅可比矩阵的值放入，保留多少位小数，小数点后面就有几个0。n元变量就加n个[]\n",
    "    for i in range(a):#循环求值\n",
    "        df[i,0]=sp.diff(f,x3[i]).subs({x1:x[0][0],x2:x[1][0]})#求导和求值,n元的在subs后面补充\n",
    "    return df\n",
    "\n",
    "def hesse(f,x):#hesse矩阵\n",
    "    a,b=np.shape(x)\n",
    "    x1,x2=sp.symbols('x1 x2')\n",
    "    x3=[x1,x2]\n",
    "    G=np.zeros((a,a))\n",
    "    for i in range(a):\n",
    "        for j in range(a):\n",
    "            G[i,j]=sp.diff(f,x3[i],x3[j]).subs({x1:x[0][0],x2:x[1][0]})#n元的在subs后面补充\n",
    "    return G\n",
    "      \n",
    "def dfp_newton(f, x, iters):\n",
    "    \"\"\"\n",
    "    实现DFP拟牛顿算法\n",
    "    :param f: 原函数\n",
    "    :param x: 初始值\n",
    "    :param iters: 遍历的最大迭代次数\n",
    "    :return: 最终更新完毕的x值\n",
    "    \"\"\"\n",
    "    a = 1#定义初始步长\n",
    "    H = np.eye(2) # 初始化正定矩阵\n",
    "    G=hesse(f,x)#初始化Hesse矩阵\n",
    "    epsilon = 1e-6 # 一阶导g的第二范式的最小值（阈值）\n",
    "    for i in range(1, iters):\n",
    "        g = jacobian(f, x) \n",
    "        if i == 1:\n",
    "            print(\"||g0||=\",np.linalg.norm(g))\n",
    "        else:\n",
    "            print(\"||g(k+1)||=\",np.linalg.norm(g))\n",
    "        if np.linalg.norm(g) < epsilon:\n",
    "            xbest=[]\n",
    "            for a in x:\n",
    "                xbest.append(a[0])\n",
    "            break\n",
    "#下面的迭代公式\n",
    "        d= -np.dot(H,g)\n",
    "        a=-(np.dot(g.T,d)/np.dot(d.T,np.dot(G,d)))\n",
    "        # 更新x值\n",
    "        x_new = x +a*d\n",
    "        print(\"第 %d 次迭代\"%i)  \n",
    "        print(\"x=\",x_new)\n",
    "        g_new = jacobian(f, x_new)\n",
    "        y = g_new - g\n",
    "        s = x_new - x\n",
    "        #更新H\n",
    "        H=H+np.dot(s,s.T)/np.dot(s.T,y)-np.dot(H,np.dot(y,np.dot(y.T,H)))/np.dot(y.T,np.dot(H,y))\n",
    "        #更新G\n",
    "        G=hesse(f,x_new)\n",
    "        x = x_new \n",
    "    return xbest\n",
    "    \n",
    "x1,x2=sp.symbols('x1 x2')#例子\n",
    "x=np.array([[1],[1]])\n",
    "f=x1**2+4*x2**2\n",
    "X = dfp_newton(f,x,20)\n",
    "print(\"极小值为：\",X[0]**2+4*X[1]**2)"
   ]
  }
 ],
 "metadata": {
  "kernelspec": {
   "display_name": "Python 3 (ipykernel)",
   "language": "python",
   "name": "python3"
  },
  "language_info": {
   "codemirror_mode": {
    "name": "ipython",
    "version": 3
   },
   "file_extension": ".py",
   "mimetype": "text/x-python",
   "name": "python",
   "nbconvert_exporter": "python",
   "pygments_lexer": "ipython3",
   "version": "3.9.12"
  }
 },
 "nbformat": 4,
 "nbformat_minor": 5
}
