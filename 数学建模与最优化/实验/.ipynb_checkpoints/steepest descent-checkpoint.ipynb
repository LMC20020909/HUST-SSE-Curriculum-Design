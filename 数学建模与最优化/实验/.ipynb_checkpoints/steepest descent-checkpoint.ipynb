{
 "cells": [
  {
   "cell_type": "code",
   "execution_count": 3,
   "id": "cce2ad75",
   "metadata": {},
   "outputs": [
    {
     "ename": "NameError",
     "evalue": "name 'k' is not defined",
     "output_type": "error",
     "traceback": [
      "\u001b[1;31m---------------------------------------------------------------------------\u001b[0m",
      "\u001b[1;31mNameError\u001b[0m                                 Traceback (most recent call last)",
      "Input \u001b[1;32mIn [3]\u001b[0m, in \u001b[0;36m<cell line: 55>\u001b[1;34m()\u001b[0m\n\u001b[0;32m     53\u001b[0m         data_x\u001b[38;5;241m.\u001b[39mappend(X0[\u001b[38;5;241m0\u001b[39m])\n\u001b[0;32m     54\u001b[0m         data_y\u001b[38;5;241m.\u001b[39mappend(X0[\u001b[38;5;241m1\u001b[39m])\n\u001b[1;32m---> 55\u001b[0m \u001b[38;5;28mprint\u001b[39m(\u001b[43mk\u001b[49m)\n\u001b[0;32m     56\u001b[0m plt\u001b[38;5;241m.\u001b[39mplot(data_x,data_y)\n\u001b[0;32m     57\u001b[0m plt\u001b[38;5;241m.\u001b[39mshow()\n",
      "\u001b[1;31mNameError\u001b[0m: name 'k' is not defined"
     ]
    }
   ],
   "source": [
    "\n",
    "import numpy as np\n",
    "from sympy import *\n",
    "import math\n",
    "import matplotlib.pyplot as plt\n",
    "import mpl_toolkits.axisartist as axisartist\n",
    " \n",
    "# 定义符号\n",
    "x1, x2, t = symbols('x1, x2, t')#sympy 符号数学相当于代数式\n",
    " \n",
    "def func():\n",
    "    # 自定义一个函数\n",
    "    return pow(x1-1, 2) + pow(x2-1, 2)\n",
    " \n",
    "def grad(data):\n",
    "    # 求梯度向量,data=[data1, data2]\n",
    "    f = func()\n",
    "    grad_vec = [diff(f, x1), diff(f, x2)]  # 求偏导数,梯度向量\n",
    "    grad = []\n",
    "    for item in grad_vec:\n",
    "        grad.append(item.subs(x1, data[0]).subs(x2, data[1]))#subs(a,b)将a替换为b\n",
    "    return grad\n",
    " \n",
    "def grad_len(grad):\n",
    "    # 梯度向量的模长\n",
    "    vec_len = math.sqrt(pow(grad[0], 2) + pow(grad[1], 2))\n",
    "    return vec_len\n",
    " \n",
    "def zhudian(f):\n",
    "    # 求得min(t)的驻点\n",
    "    t_diff = diff(f)\n",
    "    t_min = solve(t_diff)\n",
    "    return t_min\n",
    " \n",
    "def main(X0, theta):\n",
    "    f = func()\n",
    "    grad_vec = grad(X0)#偏导数的值\n",
    "    grad_length = grad_len(grad_vec)  # 梯度向量的模长\n",
    "    k = 0\n",
    "    data_x = [0]\n",
    "    data_y = [0]\n",
    "    while grad_length > theta:  # 迭代的终止条件\n",
    "        k += 1\n",
    "        p = -np.array(grad_vec)\n",
    "        # 迭代\n",
    "        X = np.array(X0) + t*p\n",
    "        t_func = f.subs(x1, X[0]).subs(x2, X[1])\n",
    "        t_min = zhudian(t_func)#驻点\n",
    "        X0 = np.array(X0) + t_min*p\n",
    "        grad_vec = grad(X0)\n",
    "        grad_length = grad_len(grad_vec)\n",
    "        print('grad_length', grad_length)\n",
    "        print('坐标', X0[0], X0[1])\n",
    "        data_x.append(X0[0])\n",
    "        data_y.append(X0[1])\n",
    "    print(k)\n",
    "    plt.plot(data_x,data_y)\n",
    "    plt.show()\n",
    "    \n",
    "if __name__ == '__main__':\n",
    "\t# 给定初始迭代点和阈值\n",
    "    main([1, 1], 0.1)\n"
   ]
  }
 ],
 "metadata": {
  "kernelspec": {
   "display_name": "Python 3 (ipykernel)",
   "language": "python",
   "name": "python3"
  },
  "language_info": {
   "codemirror_mode": {
    "name": "ipython",
    "version": 3
   },
   "file_extension": ".py",
   "mimetype": "text/x-python",
   "name": "python",
   "nbconvert_exporter": "python",
   "pygments_lexer": "ipython3",
   "version": "3.9.12"
  }
 },
 "nbformat": 4,
 "nbformat_minor": 5
}
