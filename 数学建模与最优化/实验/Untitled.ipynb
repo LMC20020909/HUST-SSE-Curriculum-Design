{
 "cells": [
  {
   "cell_type": "code",
   "execution_count": 7,
   "id": "7aa93cfb",
   "metadata": {},
   "outputs": [
    {
     "name": "stdout",
     "output_type": "stream",
     "text": [
      "梯度模长 8.246211251235321\n",
      "迭代次数： 1\n",
      "梯度模长 0.0\n",
      "极小值点: [[0. 0.]] 极小值: [0.]\n"
     ]
    }
   ],
   "source": [
    "import numpy as np\n",
    "\n",
    "\n",
    "def fun(x): \n",
    "    return x[0] ** 2 + 4 * x[1] ** 2\n",
    "\n",
    "\n",
    "def gfun(x):\n",
    "    return np.array([2 * x[0], 8 * x[1]], dtype=float)\n",
    "\n",
    "\n",
    "def Gfun(x):\n",
    "    return np.array([[2, 0], [0, 8]], dtype=float)\n",
    "\n",
    "\n",
    "def Newton(x0, eps=10 ** (-6)):\n",
    "    xk, count = x0, 0\n",
    "    print(\"梯度模长\", np.linalg.norm(gfun(xk)))\n",
    "    while np.linalg.norm(gfun(xk)) > eps:\n",
    "        count += 1\n",
    "        gk = gfun(xk)\n",
    "        Gk = Gfun(xk)\n",
    "        dk = -np.linalg.inv(Gk) @ gk\n",
    "        xk = xk + dk\n",
    "        print(\"迭代次数：\",count)\n",
    "        print(\"梯度模长\", np.linalg.norm(gfun(xk)))\n",
    "    return xk, count\n",
    "\n",
    "\n",
    "if __name__ == '__main__':\n",
    "    x0 = np.array([[1], [1]])\n",
    "    x = Newton(x0)\n",
    "    print('极小值点:', x[0].T, '极小值:', fun(x[0]))\n"
   ]
  }
 ],
 "metadata": {
  "kernelspec": {
   "display_name": "Python 3 (ipykernel)",
   "language": "python",
   "name": "python3"
  },
  "language_info": {
   "codemirror_mode": {
    "name": "ipython",
    "version": 3
   },
   "file_extension": ".py",
   "mimetype": "text/x-python",
   "name": "python",
   "nbconvert_exporter": "python",
   "pygments_lexer": "ipython3",
   "version": "3.9.12"
  }
 },
 "nbformat": 4,
 "nbformat_minor": 5
}
